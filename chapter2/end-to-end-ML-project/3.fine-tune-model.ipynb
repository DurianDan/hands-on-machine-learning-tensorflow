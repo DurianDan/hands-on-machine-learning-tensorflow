{
 "cells": [
  {
   "attachments": {},
   "cell_type": "markdown",
   "metadata": {},
   "source": [
    "## steps\n",
    "1. ✅Understand the whole picture\n",
    "   - Quantify final objectives ?\n",
    "   - What is the current solution (if any) ? Downsides ?\n",
    "2. ✅Get data\n",
    "3. ✅explore, visualize data => **insight**\n",
    "4. ✅prepare data for machine learning algo\n",
    "5. ✅select and train a model\n",
    "6. fine-tune model <= **DOING**\n",
    "   - Mesure the errors made by the model, with **RMSE** or **MAE**\n",
    "7. present solution\n",
    "8.  launch, monitor, maintain system"
   ]
  },
  {
   "cell_type": "code",
   "execution_count": null,
   "metadata": {},
   "outputs": [],
   "source": [
    "import pandas as pd\n",
    "housing = pd.read_feather(\"prepared-data/strat_train_set_features.feather\").set_index(\"index\")\n",
    "housing_lables = (pd\n",
    "    .read_feather(\"prepared-data/strat_train_set_lables.feather\")\n",
    "    .set_index(\"index\")\n",
    "    .median_house_value\n",
    ")"
   ]
  },
  {
   "attachments": {},
   "cell_type": "markdown",
   "metadata": {},
   "source": [
    "# I. Grid Search"
   ]
  },
  {
   "attachments": {},
   "cell_type": "markdown",
   "metadata": {},
   "source": [
    "- Changing **Hyperparameters** with `GridSearchCV`\n",
    "- Tell it the **Hyperparemeters**, and the range of **experiment values**"
   ]
  },
  {
   "cell_type": "code",
   "execution_count": null,
   "metadata": {},
   "outputs": [],
   "source": [
    "from utils import preprocessing_end_part1\n",
    "from sklearn.model_selection import GridSearchCV\n",
    "from sklearn.pipeline import Pipeline\n",
    "from sklearn.ensemble import RandomForestRegressor\n",
    "\n",
    "full_pipeline = Pipeline([\n",
    "        (\"preprocessing\", preprocessing_end_part1),\n",
    "        (\"random_forest\", RandomForestRegressor(random_state=42))\n",
    "])\n",
    "param_grid = [\n",
    "    {\n",
    "        'preprocessing__geo__n_clusters' : [5, 8, 10],\n",
    "        'random_forest__max_features' : [4,6,8]\n",
    "    },\n",
    "    {\n",
    "        'preprocessing__geo__n_clusters' : [10, 15],\n",
    "        'random_forest__ max_features' : [6,8,10]\n",
    "    }\n",
    "]\n",
    "\n",
    "grid_search = GridSearchCV(\n",
    "    full_pipeline,\n",
    "    param_grid=param_grid,\n",
    "    cv=3,\n",
    "    scoring='neg_root_mean_squared_error')\n",
    "\n",
    "grid_search.fit(housing, housing_lables)"
   ]
  },
  {
   "attachments": {},
   "cell_type": "markdown",
   "metadata": {},
   "source": [
    "- pipeline, nested pipeline and parameters are *seperated* by **double under slashes '__'**:\n",
    "  - `preprocessing__geo__n_clusters` tells `GridSearchCV` to change `n_clusters` parameter inside estimator **geo**, inside **preprocessing** step/transformer of the **Pipeline**\n",
    "- `param_grid`:\n",
    "  - first element tells `GridSearchCV` to try **3X3=9** combinations of **hyperparameters**\n",
    "  - second element tells `GridSearchCV` to try **2X3=6** combinations of **hyperparameters**\n",
    "  - => 15 Combinations of hyperparameters\n",
    "- `cv = 3` tells the `grid_search` to perform crossvalidation on 3 folded dataset\n",
    "- => The script will run **15** *(combinations of hyperparameters)* **X 3** *(3 folds)* = 45 rounds\n",
    "\n",
    "- **NOTE TO SELF**: On this computer, in the part2 notebook, each `RandomForestRegressor` takes up 3 mins => **2hrs 15mins** to train "
   ]
  },
  {
   "cell_type": "markdown",
   "metadata": {},
   "source": []
  }
 ],
 "metadata": {
  "kernelspec": {
   "display_name": "Python 3",
   "language": "python",
   "name": "python3"
  },
  "language_info": {
   "codemirror_mode": {
    "name": "ipython",
    "version": 3
   },
   "file_extension": ".py",
   "mimetype": "text/x-python",
   "name": "python",
   "nbconvert_exporter": "python",
   "pygments_lexer": "ipython3",
   "version": "3.10.6"
  },
  "orig_nbformat": 4
 },
 "nbformat": 4,
 "nbformat_minor": 2
}
