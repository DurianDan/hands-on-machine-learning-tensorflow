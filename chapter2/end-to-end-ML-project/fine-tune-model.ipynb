{
 "cells": [
  {
   "attachments": {},
   "cell_type": "markdown",
   "metadata": {},
   "source": [
    "## steps\n",
    "1. ✅Understand the whole picture\n",
    "   - Quantify final objectives ?\n",
    "   - What is the current solution (if any) ? Downsides ?\n",
    "2. ✅Get data\n",
    "3. ✅explore, visualize data => **insight**\n",
    "4. ✅prepare data for machine learning algo\n",
    "5. ✅select and train a model\n",
    "6. fine-tune model <= **DOING**\n",
    "   - Mesure the errors made by the model, with **RMSE** or **MAE**\n",
    "7. present solution\n",
    "8.  launch, monitor, maintain system"
   ]
  },
  {
   "cell_type": "markdown",
   "metadata": {},
   "source": []
  }
 ],
 "metadata": {
  "language_info": {
   "name": "python"
  },
  "orig_nbformat": 4
 },
 "nbformat": 4,
 "nbformat_minor": 2
}
